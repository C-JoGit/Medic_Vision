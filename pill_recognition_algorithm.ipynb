{
 "cells": [
  {
   "cell_type": "markdown",
   "metadata": {},
   "source": [
    "# Pill Recognition Classify\n",
    "\n",
    "### In this notebook, pill recognition algorithm will be established, model trained and saved for deployment to the object detection algorithm. CNN will be used at first, but due to the small dataset used for this purpose, Random Forest Classify will also be used and the best performing model adopted. \n"
   ]
  },
  {
   "cell_type": "code",
   "execution_count": 21,
   "metadata": {},
   "outputs": [],
   "source": [
    "# importation of the necessary librabries.\n",
    "\n",
    "import pandas as pd \n",
    "import numpy as np \n",
    "import matplotlib.pyplot as plt \n",
    "from matplotlib.image import imread \n",
    "import seaborn as sns\n",
    "import glob\n",
    "import cv2\n",
    "\n",
    "from tensorflow.keras.preprocessing.image import load_img, img_to_array, ImageDataGenerator\n",
    "from tensorflow.keras.utils import to_categorical\n",
    "from tensorflow.keras.models import Sequential, Model\n",
    "from tensorflow.keras.layers import Conv2D, MaxPooling2D, Dense, Flatten, BatchNormalization\n",
    "from tensorflow.keras.optimizers import SGD\n",
    "\n",
    "from sklearn.preprocessing import LabelEncoder\n",
    "from sklearn.model_selection import GridSearchCV\n",
    "from sklearn.metrics import confusion_matrix, accuracy_score\n",
    "from sklearn.ensemble import RandomForestClassifier\n",
    "\n",
    "from shutil import copyfile\n",
    "from random import seed, random\n",
    "\n",
    "import sys\n",
    "import os\n",
    "from os import walk"
   ]
  },
  {
   "cell_type": "code",
   "execution_count": 6,
   "metadata": {},
   "outputs": [
    {
     "ename": "FileNotFoundError",
     "evalue": "[Errno 2] No such file or directory: 'medication\\\\GeloMytrol1.jpg'",
     "output_type": "error",
     "traceback": [
      "\u001b[0;31m---------------------------------------------------------------------------\u001b[0m",
      "\u001b[0;31mFileNotFoundError\u001b[0m                         Traceback (most recent call last)",
      "\u001b[0;32m<ipython-input-6-725f40eda590>\u001b[0m in \u001b[0;36m<module>\u001b[0;34m\u001b[0m\n\u001b[1;32m     13\u001b[0m     \u001b[0mfilename\u001b[0m \u001b[0;34m=\u001b[0m \u001b[0mfolder\u001b[0m \u001b[0;34m+\u001b[0m \u001b[0;34m'GeloMytrol'\u001b[0m \u001b[0;34m+\u001b[0m \u001b[0mstr\u001b[0m\u001b[0;34m(\u001b[0m\u001b[0mi\u001b[0m\u001b[0;34m)\u001b[0m \u001b[0;34m+\u001b[0m \u001b[0;34m'.jpg'\u001b[0m\u001b[0;34m\u001b[0m\u001b[0;34m\u001b[0m\u001b[0m\n\u001b[1;32m     14\u001b[0m     \u001b[0;31m# load imgae pixels\u001b[0m\u001b[0;34m\u001b[0m\u001b[0;34m\u001b[0m\u001b[0;34m\u001b[0m\u001b[0m\n\u001b[0;32m---> 15\u001b[0;31m     \u001b[0mimage\u001b[0m \u001b[0;34m=\u001b[0m \u001b[0mimread\u001b[0m\u001b[0;34m(\u001b[0m\u001b[0mfilename\u001b[0m\u001b[0;34m)\u001b[0m\u001b[0;34m\u001b[0m\u001b[0;34m\u001b[0m\u001b[0m\n\u001b[0m\u001b[1;32m     16\u001b[0m     \u001b[0;31m# plot raw pixel data\u001b[0m\u001b[0;34m\u001b[0m\u001b[0;34m\u001b[0m\u001b[0;34m\u001b[0m\u001b[0m\n\u001b[1;32m     17\u001b[0m     \u001b[0mplt\u001b[0m\u001b[0;34m.\u001b[0m\u001b[0mimshow\u001b[0m\u001b[0;34m(\u001b[0m\u001b[0mimage\u001b[0m\u001b[0;34m)\u001b[0m\u001b[0;34m\u001b[0m\u001b[0;34m\u001b[0m\u001b[0m\n",
      "\u001b[0;32m~/opt/anaconda3/lib/python3.8/site-packages/matplotlib/image.py\u001b[0m in \u001b[0;36mimread\u001b[0;34m(fname, format)\u001b[0m\n\u001b[1;32m   1462\u001b[0m             raise ValueError('Only know how to handle PNG; with Pillow '\n\u001b[1;32m   1463\u001b[0m                              'installed, Matplotlib can handle more images')\n\u001b[0;32m-> 1464\u001b[0;31m         \u001b[0;32mwith\u001b[0m \u001b[0mImage\u001b[0m\u001b[0;34m.\u001b[0m\u001b[0mopen\u001b[0m\u001b[0;34m(\u001b[0m\u001b[0mfname\u001b[0m\u001b[0;34m)\u001b[0m \u001b[0;32mas\u001b[0m \u001b[0mimage\u001b[0m\u001b[0;34m:\u001b[0m\u001b[0;34m\u001b[0m\u001b[0;34m\u001b[0m\u001b[0m\n\u001b[0m\u001b[1;32m   1465\u001b[0m             \u001b[0;32mreturn\u001b[0m \u001b[0mpil_to_array\u001b[0m\u001b[0;34m(\u001b[0m\u001b[0mimage\u001b[0m\u001b[0;34m)\u001b[0m\u001b[0;34m\u001b[0m\u001b[0;34m\u001b[0m\u001b[0m\n\u001b[1;32m   1466\u001b[0m     \u001b[0;32mfrom\u001b[0m \u001b[0mmatplotlib\u001b[0m \u001b[0;32mimport\u001b[0m \u001b[0m_png\u001b[0m\u001b[0;34m\u001b[0m\u001b[0;34m\u001b[0m\u001b[0m\n",
      "\u001b[0;32m~/opt/anaconda3/lib/python3.8/site-packages/PIL/Image.py\u001b[0m in \u001b[0;36mopen\u001b[0;34m(fp, mode)\u001b[0m\n\u001b[1;32m   2876\u001b[0m \u001b[0;34m\u001b[0m\u001b[0m\n\u001b[1;32m   2877\u001b[0m     \u001b[0;32mif\u001b[0m \u001b[0mfilename\u001b[0m\u001b[0;34m:\u001b[0m\u001b[0;34m\u001b[0m\u001b[0;34m\u001b[0m\u001b[0m\n\u001b[0;32m-> 2878\u001b[0;31m         \u001b[0mfp\u001b[0m \u001b[0;34m=\u001b[0m \u001b[0mbuiltins\u001b[0m\u001b[0;34m.\u001b[0m\u001b[0mopen\u001b[0m\u001b[0;34m(\u001b[0m\u001b[0mfilename\u001b[0m\u001b[0;34m,\u001b[0m \u001b[0;34m\"rb\"\u001b[0m\u001b[0;34m)\u001b[0m\u001b[0;34m\u001b[0m\u001b[0;34m\u001b[0m\u001b[0m\n\u001b[0m\u001b[1;32m   2879\u001b[0m         \u001b[0mexclusive_fp\u001b[0m \u001b[0;34m=\u001b[0m \u001b[0;32mTrue\u001b[0m\u001b[0;34m\u001b[0m\u001b[0;34m\u001b[0m\u001b[0m\n\u001b[1;32m   2880\u001b[0m \u001b[0;34m\u001b[0m\u001b[0m\n",
      "\u001b[0;31mFileNotFoundError\u001b[0m: [Errno 2] No such file or directory: 'medication\\\\GeloMytrol1.jpg'"
     ]
    },
    {
     "data": {
      "image/png": "[encoded data removed]",
      "text/plain": [
       "<Figure size 432x288 with 1 Axes>"
      ]
     },
     "metadata": {
      "needs_background": "light"
     },
     "output_type": "display_data"
    }
   ],
   "source": [
    "# EDA - a sneakpeak into the files in the medication (train dataset) folder. \n",
    "\n",
    "# load dataset\n",
    "\n",
    "folder = \"medication\\\\\"\n",
    "\n",
    "# plot first few images\n",
    "\n",
    "for i in range(1, 8):\n",
    "    # define subplot\n",
    "    plt.subplot(330 + 0 + i)\n",
    "    # define filename\n",
    "    filename = folder + 'GeloMytrol' + str(i) + '.jpg'\n",
    "    # load imgae pixels\n",
    "    image = imread(filename)\n",
    "    # plot raw pixel data\n",
    "    plt.imshow(image)\n",
    "# show the figure\n",
    "plt.show()\n"
   ]
  },
  {
   "cell_type": "code",
   "execution_count": 3,
   "metadata": {},
   "outputs": [],
   "source": [
    "# list the names of the files in the directory\n",
    "filenames = os.listdir(\"medication\\\\\")"
   ]
  },
  {
   "cell_type": "code",
   "execution_count": 4,
   "metadata": {},
   "outputs": [
    {
     "data": {
      "text/plain": [
       "132"
      ]
     },
     "execution_count": 4,
     "metadata": {},
     "output_type": "execute_result"
    }
   ],
   "source": [
    "len(filenames)"
   ]
  },
  {
   "cell_type": "code",
   "execution_count": 75,
   "metadata": {},
   "outputs": [],
   "source": [
    "def pill_encoding(folder=\"medication\\\\\"):\n",
    "    \"\"\"Convert the photos and labels from images and texts to numbers - encoding, 16 selected medications are encoded here\"\"\"\n",
    "    \"\"\"folder: specify the folder where the medication photos can be found\"\"\"\n",
    "\n",
    "    # location of train set\n",
    "    #folder = \"medication\\\\\"\n",
    "    photos, labels = list(), list()\n",
    "\n",
    "    # enumerate files in the directory\n",
    "    for file in os.listdir(folder):\n",
    "        # determine class\n",
    "        output = 0.0\n",
    "        if file.startswith(\"Bis\"):\n",
    "            output = 1.0\n",
    "        if file.startswith(\"Candecor\"):\n",
    "            output = 2.0\n",
    "        if file.startswith(\"Candes\"):\n",
    "            output = 3.0\n",
    "        if file.startswith(\"Eunova\"):\n",
    "            output = 4.0\n",
    "        if file.startswith(\"Gelo\"):\n",
    "            output = 5.0\n",
    "        if file.startswith(\"Ibu\"):\n",
    "            output = 6.0\n",
    "        if file.startswith(\"Imo\"):\n",
    "            output = 7.0\n",
    "        if file.startswith(\"Klo\"):\n",
    "            output = 8.0\n",
    "        if file.startswith(\"Lem\"):\n",
    "            output = 9.0\n",
    "        if file.startswith(\"Lor\"):\n",
    "            output = 10.0\n",
    "        if file.startswith(\"Nov\"):\n",
    "            output = 11.0\n",
    "        if file.startswith(\"Sed\"):\n",
    "            output = 12.0\n",
    "        if file.startswith(\"Tax\"):\n",
    "            output = 13.0\n",
    "        if file.startswith(\"Tho\"):\n",
    "            output = 14.0\n",
    "        if file.startswith(\"Vit\"):\n",
    "            output = 15.0\n",
    "        \n",
    "        # load image\n",
    "        photo = load_img(folder + file, target_size=(300, 300))\n",
    "\n",
    "        # convert to numpy array\n",
    "        photo = img_to_array(photo)\n",
    "\n",
    "        # store\n",
    "        photos.append(photo)\n",
    "        labels.append(output)\n",
    "\n",
    "    # convert to numpy arrays\n",
    "    photos = np.asarray(photos)\n",
    "    labels = np.asarray(labels)\n",
    "\n",
    "    return photos, labels\n",
    "\n",
    "def save_encodings(filename1, filename2, data1, data2):\n",
    "    \"\"\"filename1: desired name of dataset 1, filename2: desired name of dataset 2\"\"\"\n",
    "    # save the reshaped photos\n",
    "    np.save(filename1, data1)\n",
    "    np.save(filename2, data2)"
   ]
  },
  {
   "cell_type": "code",
   "execution_count": 76,
   "metadata": {},
   "outputs": [
    {
     "name": "stdout",
     "output_type": "stream",
     "text": [
      "(132, 300, 300, 3) (132,)\n"
     ]
    }
   ],
   "source": [
    "photos, labels = pill_encoding(\"medication\\\\\")\n",
    "print(photos.shape, labels.shape)\n",
    "\n",
    "save_encodings(filename1=\"trainset_photos.npy\", filename2=\"trainset_labels.npy\", data1=photos, data2=labels)"
   ]
  },
  {
   "cell_type": "code",
   "execution_count": 77,
   "metadata": {},
   "outputs": [
    {
     "name": "stdout",
     "output_type": "stream",
     "text": [
      "(17, 300, 300, 3) (17,)\n"
     ]
    }
   ],
   "source": [
    "# encode the test set\n",
    "test_photos, test_labels = pill_encoding(folder=\"medication_testset\\\\\")\n",
    "print(test_photos.shape, test_labels.shape)\n",
    "\n",
    "save_encodings(filename1=\"testset_photos.npy\", filename2=\"testset_labels.npy\", data1=test_photos, data2=test_labels)"
   ]
  },
  {
   "cell_type": "markdown",
   "metadata": {},
   "source": [
    "# Baseline CNN Model\n",
    "\n",
    "The baseline model using CNN is expected to produce crappy result, given the size of the training set, random forest classify will be used in the hope of getting a better prediction. "
   ]
  },
  {
   "cell_type": "code",
   "execution_count": 7,
   "metadata": {},
   "outputs": [
    {
     "name": "stdout",
     "output_type": "stream",
     "text": [
      "(132, 300, 300, 3) (132,) (17, 300, 300, 3) (17,)\n"
     ]
    }
   ],
   "source": [
    "train_images = np.load(\"trainset_photos.npy\")\n",
    "train_labels = np.load(\"trainset_labels.npy\")\n",
    "test_images = np.load(\"testset_photos.npy\")\n",
    "test_labels = np.load(\"testset_labels.npy\")\n",
    "\n",
    "# Normalize the dataset\n",
    "train_images, test_images = train_images/255.0, test_images/255.0\n",
    "\n",
    "print(train_images.shape, train_labels.shape, test_images.shape, test_labels.shape)"
   ]
  },
  {
   "cell_type": "code",
   "execution_count": 8,
   "metadata": {},
   "outputs": [
    {
     "name": "stdout",
     "output_type": "stream",
     "text": [
      "(132, 300, 300, 3) (132, 1) (17, 300, 300, 3) (17, 1)\n"
     ]
    }
   ],
   "source": [
    "# reshape the labels\n",
    "\n",
    "train_labels = train_labels.reshape(-1,1)\n",
    "test_labels = test_labels.reshape(-1,1)\n",
    "\n",
    "print(train_images.shape, train_labels.shape, test_images.shape, test_labels.shape)"
   ]
  },
  {
   "cell_type": "code",
   "execution_count": 9,
   "metadata": {},
   "outputs": [
    {
     "name": "stdout",
     "output_type": "stream",
     "text": [
      "Epoch 1/20\n",
      "5/5 - 5s - loss: -4.4461e+10 - accuracy: 0.0455 - val_loss: -4.3522e+21 - val_accuracy: 0.0588\n",
      "Epoch 2/20\n",
      "5/5 - 3s - loss: nan - accuracy: 0.0379 - val_loss: nan - val_accuracy: 0.0588\n",
      "Epoch 3/20\n",
      "5/5 - 4s - loss: nan - accuracy: 0.0682 - val_loss: nan - val_accuracy: 0.0588\n",
      "Epoch 4/20\n",
      "5/5 - 4s - loss: nan - accuracy: 0.0682 - val_loss: nan - val_accuracy: 0.0588\n",
      "Epoch 5/20\n",
      "5/5 - 3s - loss: nan - accuracy: 0.0682 - val_loss: nan - val_accuracy: 0.0588\n",
      "Epoch 6/20\n",
      "5/5 - 4s - loss: nan - accuracy: 0.0682 - val_loss: nan - val_accuracy: 0.0588\n",
      "Epoch 7/20\n",
      "5/5 - 3s - loss: nan - accuracy: 0.0682 - val_loss: nan - val_accuracy: 0.0588\n",
      "Epoch 8/20\n",
      "5/5 - 4s - loss: nan - accuracy: 0.0682 - val_loss: nan - val_accuracy: 0.0588\n",
      "Epoch 9/20\n",
      "5/5 - 4s - loss: nan - accuracy: 0.0682 - val_loss: nan - val_accuracy: 0.0588\n",
      "Epoch 10/20\n",
      "5/5 - 4s - loss: nan - accuracy: 0.0682 - val_loss: nan - val_accuracy: 0.0588\n",
      "Epoch 11/20\n",
      "5/5 - 4s - loss: nan - accuracy: 0.0682 - val_loss: nan - val_accuracy: 0.0588\n",
      "Epoch 12/20\n",
      "5/5 - 4s - loss: nan - accuracy: 0.0682 - val_loss: nan - val_accuracy: 0.0588\n",
      "Epoch 13/20\n",
      "5/5 - 4s - loss: nan - accuracy: 0.0682 - val_loss: nan - val_accuracy: 0.0588\n",
      "Epoch 14/20\n",
      "5/5 - 4s - loss: nan - accuracy: 0.0682 - val_loss: nan - val_accuracy: 0.0588\n",
      "Epoch 15/20\n",
      "5/5 - 4s - loss: nan - accuracy: 0.0682 - val_loss: nan - val_accuracy: 0.0588\n",
      "Epoch 16/20\n",
      "5/5 - 4s - loss: nan - accuracy: 0.0682 - val_loss: nan - val_accuracy: 0.0588\n",
      "Epoch 17/20\n",
      "5/5 - 4s - loss: nan - accuracy: 0.0682 - val_loss: nan - val_accuracy: 0.0588\n",
      "Epoch 18/20\n",
      "5/5 - 4s - loss: nan - accuracy: 0.0682 - val_loss: nan - val_accuracy: 0.0588\n",
      "Epoch 19/20\n",
      "5/5 - 4s - loss: nan - accuracy: 0.0682 - val_loss: nan - val_accuracy: 0.0588\n",
      "Epoch 20/20\n",
      "5/5 - 4s - loss: nan - accuracy: 0.0682 - val_loss: nan - val_accuracy: 0.0588\n"
     ]
    }
   ],
   "source": [
    "# define the model\n",
    "model = Sequential()\n",
    "model.add(Conv2D(32, (3, 3), activation='relu', kernel_initializer='he_uniform', padding='same', input_shape=(300, 300, 3)))\n",
    "model.add(MaxPooling2D((2, 2)))\n",
    "model.add(Flatten())\n",
    "model.add(Dense(128, activation='relu', kernel_initializer='he_uniform'))\n",
    "model.add(Dense(1, activation='sigmoid'))\n",
    "# compile model\n",
    "opt = SGD(lr=0.001, momentum=0.9)\n",
    "model.compile(optimizer=opt, loss='binary_crossentropy', metrics=['accuracy'])\n",
    "\n",
    "\n",
    "\n",
    "# train the model\n",
    "history = model.fit(train_images, train_labels, epochs=20, verbose=2, validation_data= (test_images, test_labels))\n"
   ]
  },
  {
   "cell_type": "code",
   "execution_count": 10,
   "metadata": {},
   "outputs": [
    {
     "name": "stdout",
     "output_type": "stream",
     "text": [
      "1/1 - 0s - loss: nan - accuracy: 0.0588\n"
     ]
    },
    {
     "data": {
      "image/png": "[encoded data removed]",
      "text/plain": [
       "<Figure size 432x288 with 1 Axes>"
      ]
     },
     "metadata": {
      "needs_background": "light"
     },
     "output_type": "display_data"
    }
   ],
   "source": [
    "plt.plot(history.history['accuracy'], label='accuracy')\n",
    "plt.plot(history.history['val_accuracy'], label = 'val_accuracy')\n",
    "plt.xlabel('Epoch')\n",
    "plt.ylabel('Accuracy')\n",
    "plt.ylim([0.01, 0.1])\n",
    "plt.legend(loc='lower right')\n",
    "\n",
    "test_loss, test_acc = model.evaluate(test_images,  test_labels, verbose=2)"
   ]
  },
  {
   "cell_type": "code",
   "execution_count": 11,
   "metadata": {},
   "outputs": [
    {
     "name": "stdout",
     "output_type": "stream",
     "text": [
      "0.05882352963089943\n"
     ]
    }
   ],
   "source": [
    "print(test_acc)"
   ]
  },
  {
   "cell_type": "code",
   "execution_count": 12,
   "metadata": {},
   "outputs": [
    {
     "data": {
      "text/plain": [
       "(17, 300, 300, 3)"
      ]
     },
     "execution_count": 12,
     "metadata": {},
     "output_type": "execute_result"
    }
   ],
   "source": [
    "test_images.shape"
   ]
  },
  {
   "cell_type": "code",
   "execution_count": 13,
   "metadata": {},
   "outputs": [
    {
     "name": "stdout",
     "output_type": "stream",
     "text": [
      "Model: \"model\"\n",
      "_________________________________________________________________\n",
      "Layer (type)                 Output Shape              Param #   \n",
      "=================================================================\n",
      "conv2d_1_input (InputLayer)  [(None, 300, 300, 3)]     0         \n",
      "_________________________________________________________________\n",
      "conv2d_1 (Conv2D)            (None, 300, 300, 32)      896       \n",
      "_________________________________________________________________\n",
      "batch_normalization (BatchNo (None, 300, 300, 32)      128       \n",
      "_________________________________________________________________\n",
      "conv2d_2 (Conv2D)            (None, 300, 300, 32)      9248      \n",
      "_________________________________________________________________\n",
      "batch_normalization_1 (Batch (None, 300, 300, 32)      128       \n",
      "_________________________________________________________________\n",
      "max_pooling2d_1 (MaxPooling2 (None, 150, 150, 32)      0         \n",
      "_________________________________________________________________\n",
      "conv2d_3 (Conv2D)            (None, 150, 150, 64)      18496     \n",
      "_________________________________________________________________\n",
      "batch_normalization_2 (Batch (None, 150, 150, 64)      256       \n",
      "_________________________________________________________________\n",
      "conv2d_4 (Conv2D)            (None, 150, 150, 64)      36928     \n",
      "_________________________________________________________________\n",
      "batch_normalization_3 (Batch (None, 150, 150, 64)      256       \n",
      "_________________________________________________________________\n",
      "max_pooling2d_2 (MaxPooling2 (None, 75, 75, 64)        0         \n",
      "_________________________________________________________________\n",
      "flatten_1 (Flatten)          (None, 360000)            0         \n",
      "_________________________________________________________________\n",
      "dense_2 (Dense)              (None, 128)               46080128  \n",
      "_________________________________________________________________\n",
      "dense_3 (Dense)              (None, 1)                 129       \n",
      "=================================================================\n",
      "Total params: 46,146,593\n",
      "Trainable params: 46,146,209\n",
      "Non-trainable params: 384\n",
      "_________________________________________________________________\n",
      "None\n",
      "Epoch 1/10\n",
      "5/5 [==============================] - 26s 5s/step - loss: -7.3678 - accuracy: 0.0590 - val_loss: -47.4011 - val_accuracy: 0.0588\n",
      "Epoch 2/10\n",
      "5/5 [==============================] - 28s 5s/step - loss: -30.3008 - accuracy: 0.0429 - val_loss: -50.3497 - val_accuracy: 0.0588\n",
      "Epoch 3/10\n",
      "5/5 [==============================] - 29s 5s/step - loss: -42.1425 - accuracy: 0.0325 - val_loss: -52.6440 - val_accuracy: 0.0588\n",
      "Epoch 4/10\n",
      "5/5 [==============================] - 28s 5s/step - loss: -40.9352 - accuracy: 0.0412 - val_loss: -55.3143 - val_accuracy: 0.0588\n",
      "Epoch 5/10\n",
      "5/5 [==============================] - 29s 6s/step - loss: -49.3013 - accuracy: 0.0490 - val_loss: -57.7624 - val_accuracy: 0.0588\n",
      "Epoch 6/10\n",
      "5/5 [==============================] - 32s 6s/step - loss: -53.8373 - accuracy: 0.0377 - val_loss: -59.9434 - val_accuracy: 0.0588\n",
      "Epoch 7/10\n",
      "5/5 [==============================] - 33s 6s/step - loss: -55.0433 - accuracy: 0.0351 - val_loss: -62.1306 - val_accuracy: 0.0588\n",
      "Epoch 8/10\n",
      "5/5 [==============================] - 30s 6s/step - loss: -56.9504 - accuracy: 0.0369 - val_loss: -64.2245 - val_accuracy: 0.0588\n",
      "Epoch 9/10\n",
      "5/5 [==============================] - 41s 8s/step - loss: -60.3156 - accuracy: 0.0377 - val_loss: -66.3256 - val_accuracy: 0.0588\n",
      "Epoch 10/10\n",
      "5/5 [==============================] - 28s 5s/step - loss: -58.9378 - accuracy: 0.0516 - val_loss: -68.4394 - val_accuracy: 0.0588\n"
     ]
    }
   ],
   "source": [
    "# modify the features and retrain the model\n",
    "cnn_features = Sequential()\n",
    "cnn_features.add(Conv2D(32, (3, 3), activation = 'sigmoid', padding = 'same', input_shape=(300,300,3)))\n",
    "cnn_features.add(BatchNormalization())\n",
    "\n",
    "cnn_features.add(Conv2D(32, (3, 3), activation = 'sigmoid', padding = 'same', kernel_initializer = 'he_uniform'))\n",
    "cnn_features.add(BatchNormalization())\n",
    "cnn_features.add(MaxPooling2D(2, 2))\n",
    "\n",
    "cnn_features.add(Conv2D(64, (3, 3), activation = 'sigmoid', padding = 'same', kernel_initializer = 'he_uniform'))\n",
    "cnn_features.add(BatchNormalization())\n",
    "\n",
    "cnn_features.add(Conv2D(64, (3, 3), activation = 'sigmoid', padding = 'same', kernel_initializer = 'he_uniform'))\n",
    "cnn_features.add(BatchNormalization())\n",
    "cnn_features.add(MaxPooling2D(2, 2))\n",
    "\n",
    "cnn_features.add(Flatten())\n",
    "\n",
    "# Add layers for deep learning prediction\n",
    "x = cnn_features.output  \n",
    "x = Dense(128, activation = 'sigmoid', kernel_initializer = 'he_uniform')(x)\n",
    "prediction_layer = Dense(1, activation = 'softmax')(x)\n",
    "\n",
    "# Make a new model combining both feature extractor and x\n",
    "cnn_model = Model(inputs=cnn_features.input, outputs=prediction_layer)\n",
    "cnn_model.compile(optimizer='rmsprop',loss = 'binary_crossentropy', metrics = ['accuracy'])\n",
    "print(cnn_model.summary()) \n",
    "\n",
    "#Train the CNN model\n",
    "history = cnn_model.fit(train_images, train_labels, epochs=10, validation_data = (test_images, test_labels))"
   ]
  },
  {
   "cell_type": "markdown",
   "metadata": {},
   "source": [
    "# Baseline Model Using Convolutional Filters + Random Forest for image classification\n",
    "\n",
    "### We will use features from CNN to train RandomForest"
   ]
  },
  {
   "cell_type": "code",
   "execution_count": 35,
   "metadata": {},
   "outputs": [],
   "source": [
    "X_train, y_train, X_test, y_test = train_images, train_labels, test_images, test_labels"
   ]
  },
  {
   "cell_type": "code",
   "execution_count": 36,
   "metadata": {},
   "outputs": [],
   "source": [
    "y_train = y_train.ravel()\n",
    "y_test = y_test.ravel()"
   ]
  },
  {
   "cell_type": "code",
   "execution_count": 37,
   "metadata": {},
   "outputs": [],
   "source": [
    "# initialize the features from CNN for RF\n",
    "X_train = cnn_features.predict(X_train)\n",
    "X_test = cnn_features.predict(X_test)"
   ]
  },
  {
   "cell_type": "code",
   "execution_count": 38,
   "metadata": {},
   "outputs": [
    {
     "name": "stdout",
     "output_type": "stream",
     "text": [
      "Accuracy =  0.5882352941176471\n"
     ]
    }
   ],
   "source": [
    "# Random Forest Model\n",
    "rf_model = RandomForestClassifier(random_state = 42)\n",
    "\n",
    "# Train the model on training data\n",
    "rf_model.fit(X_train, y_train)\n",
    "\n",
    "# Predict the test set\n",
    "y_pred= rf_model.predict(X_test)\n",
    "\n",
    "# Print overall accuracy\n",
    "print(\"Accuracy = \", accuracy_score(y_test, y_pred))"
   ]
  },
  {
   "cell_type": "markdown",
   "metadata": {},
   "source": [
    "So far, the random forest model performed better than the convolutional neural network. Next, some hyper-parameter tuning will be implemented in order to see if the accuracy of the prediction could be improved. "
   ]
  },
  {
   "cell_type": "code",
   "execution_count": null,
   "metadata": {},
   "outputs": [],
   "source": [
    "#Initialising hyperparameter grid\n",
    "param_grid = param_grid = {'bootstrap': [True, False],\n",
    " 'max_depth': [20, 40, 60, 80, 100, None],\n",
    " 'max_features': ['auto', 'sqrt'],\n",
    " 'min_samples_leaf': [1, 2, 4],\n",
    " 'min_samples_split': [2, 5, 10],\n",
    " 'n_estimators': [50, 100, 200, 400, 600, 800, 1000]}\n",
    "\n",
    "#GridSearch CV\n",
    "grid_search = GridSearchCV(estimator = rf_model, param_grid = param_grid, cv = 3)\n",
    "\n",
    "# Train the model on training data\n",
    "grid_search.fit(X_train, y_train)"
   ]
  },
  {
   "cell_type": "code",
   "execution_count": null,
   "metadata": {},
   "outputs": [],
   "source": [
    "#print best paramaters from GridSearch\n",
    "grid_search.best_params_"
   ]
  },
  {
   "cell_type": "code",
   "execution_count": null,
   "metadata": {},
   "outputs": [],
   "source": [
    "#get best performing model from GridSearch\n",
    "best = grid_search.best_estimator_\n",
    "best.fit(X_train, y_train)\n",
    "y_pred = best.predict(X_test)"
   ]
  },
  {
   "cell_type": "code",
   "execution_count": null,
   "metadata": {},
   "outputs": [],
   "source": [
    "# Print overall accuracy\n",
    "print(\"Accuracy = \", accuracy_score(y_pred, y_test))"
   ]
  }
 ],
 "metadata": {
  "interpreter": {
   "hash": "b680f19dc88a0e7d20231683ee8f83efcc33b9a1faee7aaf2b39dca108c216ef"
  },
  "kernelspec": {
   "display_name": "Python 3",
   "language": "python",
   "name": "python3"
  },
  "language_info": {
   "codemirror_mode": {
    "name": "ipython",
    "version": 3
   },
   "file_extension": ".py",
   "mimetype": "text/x-python",
   "name": "python",
   "nbconvert_exporter": "python",
   "pygments_lexer": "ipython3",
   "version": "3.8.3"
  }
 },
 "nbformat": 4,
 "nbformat_minor": 4
}
